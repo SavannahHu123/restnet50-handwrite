{
 "cells": [
  {
   "cell_type": "code",
   "execution_count": 1,
   "metadata": {},
   "outputs": [],
   "source": [
    "#损失函数是计算标签值和预测值之间差异的函数，损失Loss是标量\n",
    "#autograd根据损失函数的梯度自动优化模型参数，记录过程梯度\n",
    "import torch\n",
    "\n",
    "x = torch.ones(5)  # 输入张量\n",
    "y = torch.zeros(3)  # 期待输出，即实际标签值\n",
    "# requires_grad=True在计算中保留对应的梯度信息\n",
    "w = torch.randn(5, 3, requires_grad=True) #参数模型权重weight\n",
    "b = torch.randn(3, requires_grad=True) #参数模型训练期间优化的偏差bias\n",
    "z = torch.matmul(x, w)+b #x*w+b，z是实际输出，即预测值\n",
    "loss = torch.nn.functional.binary_cross_entropy_with_logits(z, y) #损失函数"
   ]
  },
  {
   "cell_type": "code",
   "execution_count": 2,
   "metadata": {},
   "outputs": [
    {
     "name": "stdout",
     "output_type": "stream",
     "text": [
      "Gradient function for z = <AddBackward0 object at 0x0000020FD61735C8>\n",
      "Gradient function for loss = <BinaryCrossEntropyWithLogitsBackward0 object at 0x0000020FD6173448>\n",
      "\n"
     ]
    }
   ],
   "source": [
    "# grad_fn用于记录变量是怎么来的\n",
    "print(f\"Gradient function for z = {z.grad_fn}\")\n",
    "print(f\"Gradient function for loss = {loss.grad_fn}\\n\")"
   ]
  },
  {
   "cell_type": "code",
   "execution_count": 3,
   "metadata": {},
   "outputs": [
    {
     "name": "stdout",
     "output_type": "stream",
     "text": [
      "tensor([[0.0931, 0.1116, 0.1795],\n",
      "        [0.0931, 0.1116, 0.1795],\n",
      "        [0.0931, 0.1116, 0.1795],\n",
      "        [0.0931, 0.1116, 0.1795],\n",
      "        [0.0931, 0.1116, 0.1795]])\n",
      "tensor([0.0931, 0.1116, 0.1795])\n"
     ]
    }
   ],
   "source": [
    "#计算损失函数相对于两个参数的导数，如loss=w*b，则求出来的w.grad为b\n",
    "loss.backward() \n",
    "print(w.grad)\n",
    "print(b.grad)"
   ]
  },
  {
   "cell_type": "code",
   "execution_count": 5,
   "metadata": {},
   "outputs": [
    {
     "name": "stdout",
     "output_type": "stream",
     "text": [
      "True\n",
      "False\n",
      "False\n"
     ]
    }
   ],
   "source": [
    "#禁用梯度跟踪\n",
    "# 原因1：将神经网络中的某些参数标记为冻结参数。微调预训练网络的常见场景\n",
    "# 在只做正向传递时加快计算速度\n",
    "#方法1\n",
    "z = torch.matmul(x, w)+b\n",
    "print(z.requires_grad)\n",
    "\n",
    "with torch.no_grad():\n",
    "    z = torch.matmul(x, w)+b\n",
    "print(z.requires_grad)\n",
    "#方法2\n",
    "z = torch.matmul(x, w)+b\n",
    "z_det = z.detach()\n",
    "print(z_det.requires_grad)"
   ]
  },
  {
   "cell_type": "code",
   "execution_count": 10,
   "metadata": {},
   "outputs": [
    {
     "name": "stdout",
     "output_type": "stream",
     "text": [
      "First call\n",
      "tensor([[4., 2., 2., 2., 2.],\n",
      "        [2., 4., 2., 2., 2.],\n",
      "        [2., 2., 4., 2., 2.],\n",
      "        [2., 2., 2., 4., 2.]])\n",
      "\n",
      "Second call\n",
      "tensor([[8., 4., 4., 4., 4.],\n",
      "        [4., 8., 4., 4., 4.],\n",
      "        [4., 4., 8., 4., 4.],\n",
      "        [4., 4., 4., 8., 4.]])\n",
      "\n",
      "Call after zeroing gradients\n",
      "tensor([[4., 2., 2., 2., 2.],\n",
      "        [2., 4., 2., 2., 2.],\n",
      "        [2., 2., 4., 2., 2.],\n",
      "        [2., 2., 2., 4., 2.]])\n"
     ]
    }
   ],
   "source": [
    "inp = torch.eye(4, 5, requires_grad=True)\n",
    "out = (inp+1).pow(2).t()\n",
    "out.backward(torch.ones_like(out), retain_graph=True)\n",
    "print(f\"First call\\n{inp.grad}\") # 此时是2*(inp+1)\n",
    "out.backward(torch.ones_like(out), retain_graph=True)\n",
    "print(f\"\\nSecond call\\n{inp.grad}\") # 梯度累积2*(inp+1)*2\n",
    "inp.grad.zero_()\n",
    "out.backward(torch.ones_like(out), retain_graph=True)\n",
    "print(f\"\\nCall after zeroing gradients\\n{inp.grad}\")"
   ]
  }
 ],
 "metadata": {
  "kernelspec": {
   "display_name": "pytorch",
   "language": "python",
   "name": "python3"
  },
  "language_info": {
   "codemirror_mode": {
    "name": "ipython",
    "version": 3
   },
   "file_extension": ".py",
   "mimetype": "text/x-python",
   "name": "python",
   "nbconvert_exporter": "python",
   "pygments_lexer": "ipython3",
   "version": "3.7.16"
  },
  "orig_nbformat": 4,
  "vscode": {
   "interpreter": {
    "hash": "f8c519a125461c925434d78e2b6723bed1255f2ecad36992bc55b93dd6eeab4f"
   }
  }
 },
 "nbformat": 4,
 "nbformat_minor": 2
}
