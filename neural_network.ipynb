{
 "cells": [
  {
   "cell_type": "code",
   "execution_count": 2,
   "metadata": {
    "tags": [
     "自定义神经网络"
    ]
   },
   "outputs": [
    {
     "name": "stdout",
     "output_type": "stream",
     "text": [
      "NeuralNetwork(\n",
      "  (flatten): Flatten(start_dim=1, end_dim=-1)\n",
      "  (linear_relu_stack): Sequential(\n",
      "    (0): Linear(in_features=784, out_features=512, bias=True)\n",
      "    (1): ReLU()\n",
      "    (2): Linear(in_features=512, out_features=512, bias=True)\n",
      "    (3): ReLU()\n",
      "    (4): Linear(in_features=512, out_features=10, bias=True)\n",
      "  )\n",
      ")\n",
      "Predicted class: tensor([6], device='cuda:0')\n",
      "torch.Size([1, 10])\n"
     ]
    }
   ],
   "source": [
    "import os\n",
    "import torch\n",
    "from torch import nn\n",
    "from torch.utils.data import DataLoader\n",
    "from torchvision import datasets, transforms\n",
    "\n",
    "#使用算力更高的GPU\n",
    "device = \"cuda\" if torch.cuda.is_available() else \"cpu\"\n",
    "#自定义神经网络\n",
    "class NeuralNetwork(nn.Module):\n",
    "    def __init__(self):\n",
    "        super(NeuralNetwork, self).__init__() #多重继承的问题，调用时，先把类NeuralNetwork的对象转换为父类的对象\n",
    "        self.flatten = nn.Flatten() #从第一个维度展平到最后一个维度\n",
    "        self.linear_relu_stack = nn.Sequential( #序列容器\n",
    "            nn.Linear(28*28, 512), #完成从输入层到隐藏层的线性变换\n",
    "            nn.ReLU(), #非线性激活函数类，可自选\n",
    "            nn.Linear(512, 512),\n",
    "            nn.ReLU(),\n",
    "            nn.Linear(512, 10), #完成从隐藏层到输出层的线性变换\n",
    "        )\n",
    "\n",
    "    def forward(self, x): #层层推进\n",
    "        x = self.flatten(x)\n",
    "        logits = self.linear_relu_stack(x)\n",
    "        return logits\n",
    "#实例化\n",
    "model = NeuralNetwork().to(device)\n",
    "print(model)\n",
    "X = torch.rand(1, 28, 28, device=device)\n",
    "logits = model(X)   #传入一个28*28的图形张量，输出为[1,10]的张量\n",
    "#分类函数将多个神经元输出映射到（0，1）区间，可看作概率，从而进行多分类\n",
    "pred_probab = nn.Softmax(dim=1)(logits) #对logits进行缩放，使得在维度1上的元素相加等于1，即10列元素相加等于1\n",
    "y_pred = pred_probab.argmax(1) #返回指定维度1最大值的序号，即找出最大数所在列\n",
    "print(f\"Predicted class: {y_pred}\")\n",
    "print(pred_probab.shape)"
   ]
  },
  {
   "cell_type": "code",
   "execution_count": 3,
   "metadata": {
    "tags": [
     "模型逐层拆解"
    ]
   },
   "outputs": [
    {
     "name": "stdout",
     "output_type": "stream",
     "text": [
      "torch.Size([3, 28, 28])\n",
      "torch.Size([3, 784])\n",
      "torch.Size([3, 20])\n",
      "Before ReLU: tensor([[ 0.5880,  0.0643,  0.2548, -0.6564,  0.0170, -0.5837,  0.0762,  0.1946,\n",
      "          0.1768, -0.1685,  0.4129,  0.1765, -0.2400, -0.0649,  0.1474,  0.1023,\n",
      "         -0.0567,  0.2518,  0.3235,  0.5008],\n",
      "        [ 0.3247, -0.3103,  0.6077, -0.4354,  0.0078, -0.5167, -0.4080, -0.0459,\n",
      "          0.2121,  0.0440, -0.1382, -0.0493, -0.5178, -0.3627,  0.2145,  0.4915,\n",
      "         -0.0425,  0.1138, -0.0413,  0.1356],\n",
      "        [ 0.3093,  0.1840,  0.9382, -0.6254, -0.2982, -0.1488, -0.2883, -0.0528,\n",
      "          0.0321, -0.1231,  0.0239, -0.0826, -0.4837, -0.1022,  0.4656,  0.2779,\n",
      "         -0.3499, -0.0411,  0.0334,  0.0844]], grad_fn=<AddmmBackward0>)\n",
      "\n",
      "\n",
      "After ReLU: tensor([[0.5880, 0.0643, 0.2548, 0.0000, 0.0170, 0.0000, 0.0762, 0.1946, 0.1768,\n",
      "         0.0000, 0.4129, 0.1765, 0.0000, 0.0000, 0.1474, 0.1023, 0.0000, 0.2518,\n",
      "         0.3235, 0.5008],\n",
      "        [0.3247, 0.0000, 0.6077, 0.0000, 0.0078, 0.0000, 0.0000, 0.0000, 0.2121,\n",
      "         0.0440, 0.0000, 0.0000, 0.0000, 0.0000, 0.2145, 0.4915, 0.0000, 0.1138,\n",
      "         0.0000, 0.1356],\n",
      "        [0.3093, 0.1840, 0.9382, 0.0000, 0.0000, 0.0000, 0.0000, 0.0000, 0.0321,\n",
      "         0.0000, 0.0239, 0.0000, 0.0000, 0.0000, 0.4656, 0.2779, 0.0000, 0.0000,\n",
      "         0.0334, 0.0844]], grad_fn=<ReluBackward0>)\n",
      "Model structure: NeuralNetwork(\n",
      "  (flatten): Flatten(start_dim=1, end_dim=-1)\n",
      "  (linear_relu_stack): Sequential(\n",
      "    (0): Linear(in_features=784, out_features=512, bias=True)\n",
      "    (1): ReLU()\n",
      "    (2): Linear(in_features=512, out_features=512, bias=True)\n",
      "    (3): ReLU()\n",
      "    (4): Linear(in_features=512, out_features=10, bias=True)\n",
      "  )\n",
      ")\n",
      "\n",
      "\n",
      "Layer: linear_relu_stack.0.weight | Size: torch.Size([512, 784]) | Values : tensor([[ 0.0178,  0.0291,  0.0240,  ...,  0.0239,  0.0171,  0.0044],\n",
      "        [-0.0202,  0.0051,  0.0072,  ..., -0.0114, -0.0147,  0.0254]],\n",
      "       device='cuda:0', grad_fn=<SliceBackward0>) \n",
      "\n",
      "Layer: linear_relu_stack.0.bias | Size: torch.Size([512]) | Values : tensor([-0.0025, -0.0353], device='cuda:0', grad_fn=<SliceBackward0>) \n",
      "\n",
      "Layer: linear_relu_stack.2.weight | Size: torch.Size([512, 512]) | Values : tensor([[-0.0043, -0.0421,  0.0346,  ...,  0.0211, -0.0336, -0.0414],\n",
      "        [-0.0422,  0.0433, -0.0309,  ..., -0.0176,  0.0201,  0.0102]],\n",
      "       device='cuda:0', grad_fn=<SliceBackward0>) \n",
      "\n",
      "Layer: linear_relu_stack.2.bias | Size: torch.Size([512]) | Values : tensor([ 0.0159, -0.0388], device='cuda:0', grad_fn=<SliceBackward0>) \n",
      "\n",
      "Layer: linear_relu_stack.4.weight | Size: torch.Size([10, 512]) | Values : tensor([[ 0.0221,  0.0073, -0.0153,  ...,  0.0085, -0.0017,  0.0017],\n",
      "        [ 0.0256,  0.0228, -0.0335,  ..., -0.0259,  0.0032, -0.0326]],\n",
      "       device='cuda:0', grad_fn=<SliceBackward0>) \n",
      "\n",
      "Layer: linear_relu_stack.4.bias | Size: torch.Size([10]) | Values : tensor([0.0378, 0.0166], device='cuda:0', grad_fn=<SliceBackward0>) \n",
      "\n"
     ]
    }
   ],
   "source": [
    "#输入\n",
    "input_image = torch.rand(3,28,28)\n",
    "print(input_image.size())\n",
    "#扁平化，将2D 28x28 图像转换为 784 像素值的连续数组\n",
    "flatten = nn.Flatten()\n",
    "flat_image = flatten(input_image)\n",
    "print(flat_image.size())\n",
    "#线性层，是一个模块，使用其存储的权重和偏差对输入线性变换\n",
    "layer1 = nn.Linear(in_features=28*28, out_features=20)\n",
    "hidden1 = layer1(flat_image)\n",
    "print(hidden1.size())\n",
    "#分类函数非线性激活，输入输出间的映射\n",
    "print(f\"Before ReLU: {hidden1}\\n\\n\")\n",
    "hidden1 = nn.ReLU()(hidden1)\n",
    "print(f\"After ReLU: {hidden1}\")\n",
    "#序列容器\n",
    "seq_modules = nn.Sequential(\n",
    "    flatten,\n",
    "    layer1,\n",
    "    nn.ReLU(),\n",
    "    nn.Linear(20, 10)\n",
    ")\n",
    "input_image = torch.rand(3,28,28)\n",
    "logits = seq_modules(input_image)\n",
    "#SoftMax层,对数按比例缩放为值[0,1]表示模型对每个类的预测概率\n",
    "softmax = nn.Softmax(dim=1)\n",
    "pred_probab = softmax(logits)\n",
    "\n",
    "#模型参数\n",
    "print(f\"Model structure: {model}\\n\\n\") #模型结构\n",
    "for name, param in model.named_parameters():\n",
    "    print(f\"Layer: {name} | Size: {param.size()} | Values : {param[:2]} \\n\")"
   ]
  }
 ],
 "metadata": {
  "kernelspec": {
   "display_name": "pytorch",
   "language": "python",
   "name": "python3"
  },
  "language_info": {
   "codemirror_mode": {
    "name": "ipython",
    "version": 3
   },
   "file_extension": ".py",
   "mimetype": "text/x-python",
   "name": "python",
   "nbconvert_exporter": "python",
   "pygments_lexer": "ipython3",
   "version": "3.7.16"
  },
  "orig_nbformat": 4,
  "vscode": {
   "interpreter": {
    "hash": "f8c519a125461c925434d78e2b6723bed1255f2ecad36992bc55b93dd6eeab4f"
   }
  }
 },
 "nbformat": 4,
 "nbformat_minor": 2
}
